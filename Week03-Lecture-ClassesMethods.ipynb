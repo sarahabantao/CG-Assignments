{
 "cells": [
  {
   "cell_type": "code",
   "execution_count": 15,
   "id": "7c5dc0c0",
   "metadata": {},
   "outputs": [
    {
     "name": "stdout",
     "output_type": "stream",
     "text": [
      "*playing music*\n",
      "stop playing\n"
     ]
    }
   ],
   "source": [
    "\n",
    "class Music():\n",
    "    \n",
    "    @staticmethod\n",
    "    def play():\n",
    "        print(\"*playing music*\")\n",
    "        \n",
    "    # self implies that the method is related to an instance of the class\n",
    "    \n",
    "    def stop(self):\n",
    "        print(\"stop playing\")\n",
    "\n",
    "Music.play()   # don't need to create an instance to call\n",
    "song=Music()   # need to create an instance to call\n",
    "song.stop()"
   ]
  },
  {
   "cell_type": "code",
   "execution_count": 21,
   "id": "b4868901",
   "metadata": {},
   "outputs": [],
   "source": [
    "class AllTheClassMethods:\n",
    "    \n",
    "    def method(self):\n",
    "        return \"instance method called\", self\n",
    "\n",
    "    @classmethod # this is a decorator\n",
    "    def classmethod(cls): # cls implies that the method belongs to a class\n",
    "        return 'class method called', cls\n",
    "    \n",
    "    @staticmethod\n",
    "    def staticmethod():               # not going to print anything else with it\n",
    "        return 'static method called' # because it's not accepting anything\n",
    "    \n"
   ]
  },
  {
   "cell_type": "code",
   "execution_count": 20,
   "id": "1ac398a0",
   "metadata": {},
   "outputs": [
    {
     "data": {
      "text/plain": [
       "('class method called', __main__.AllTheClassMethods)"
      ]
     },
     "execution_count": 20,
     "metadata": {},
     "output_type": "execute_result"
    }
   ],
   "source": [
    "AllTheClassMethods.classmethod()"
   ]
  },
  {
   "cell_type": "code",
   "execution_count": 23,
   "id": "7483c379",
   "metadata": {},
   "outputs": [
    {
     "data": {
      "text/plain": [
       "'static method called'"
      ]
     },
     "execution_count": 23,
     "metadata": {},
     "output_type": "execute_result"
    }
   ],
   "source": [
    "AllTheClassMethods.staticmethod()"
   ]
  },
  {
   "cell_type": "code",
   "execution_count": 26,
   "id": "2eba3a7f",
   "metadata": {},
   "outputs": [
    {
     "data": {
      "text/plain": [
       "('instance method called', <__main__.AllTheClassMethods at 0x22c840e47f0>)"
      ]
     },
     "execution_count": 26,
     "metadata": {},
     "output_type": "execute_result"
    }
   ],
   "source": [
    "# AllTheClassMethods.method()\n",
    "# ^^^ this alone won't work, need to create obj to call it\n",
    "\n",
    "obj=AllTheClassMethods()\n",
    "obj.method()"
   ]
  }
 ],
 "metadata": {
  "kernelspec": {
   "display_name": "Python 3 (ipykernel)",
   "language": "python",
   "name": "python3"
  },
  "language_info": {
   "codemirror_mode": {
    "name": "ipython",
    "version": 3
   },
   "file_extension": ".py",
   "mimetype": "text/x-python",
   "name": "python",
   "nbconvert_exporter": "python",
   "pygments_lexer": "ipython3",
   "version": "3.8.10"
  }
 },
 "nbformat": 4,
 "nbformat_minor": 5
}
