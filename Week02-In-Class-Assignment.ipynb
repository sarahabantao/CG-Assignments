{
 "cells": [
  {
   "cell_type": "code",
   "execution_count": 1,
   "id": "ee933006",
   "metadata": {},
   "outputs": [
    {
     "name": "stdout",
     "output_type": "stream",
     "text": [
      "b is greater\n",
      "a is greater\n"
     ]
    }
   ],
   "source": [
    "def comparing(a,b):\n",
    "    if a==b:\n",
    "        print(\"they are equal\")\n",
    "    elif a>b:\n",
    "        print(\"a is greater\")\n",
    "    else:\n",
    "        print(\"b is greater\")\n",
    "comparing(7,10)\n",
    "comparing(12,10)\n"
   ]
  },
  {
   "cell_type": "code",
   "execution_count": null,
   "id": "d11ba8b2",
   "metadata": {},
   "outputs": [],
   "source": [
    "# put the entry bar for number here"
   ]
  },
  {
   "cell_type": "code",
   "execution_count": 37,
   "id": "4d13e08b",
   "metadata": {},
   "outputs": [
    {
     "name": "stdout",
     "output_type": "stream",
     "text": [
      "Not Weird\n"
     ]
    }
   ],
   "source": [
    "def weirdOrNot(n):\n",
    "    \n",
    "    if n%2==1:\n",
    "        print(\"Weird\")\n",
    "    elif n%2==0 & 2<=n<=5:\n",
    "        print(\"Not Weird\")\n",
    "    elif n%2==0 & 6<=n<=20:\n",
    "        print(\"Weird\")\n",
    "    else:\n",
    "#     elif n%2==0 & n>20:  # this one doesn't work\n",
    "        print(\"Not Weird\")\n",
    "    \n",
    "weirdOrNot(24)"
   ]
  },
  {
   "cell_type": "code",
   "execution_count": null,
   "id": "9dda5884",
   "metadata": {},
   "outputs": [],
   "source": []
  }
 ],
 "metadata": {
  "kernelspec": {
   "display_name": "Python 3 (ipykernel)",
   "language": "python",
   "name": "python3"
  },
  "language_info": {
   "codemirror_mode": {
    "name": "ipython",
    "version": 3
   },
   "file_extension": ".py",
   "mimetype": "text/x-python",
   "name": "python",
   "nbconvert_exporter": "python",
   "pygments_lexer": "ipython3",
   "version": "3.8.10"
  }
 },
 "nbformat": 4,
 "nbformat_minor": 5
}
