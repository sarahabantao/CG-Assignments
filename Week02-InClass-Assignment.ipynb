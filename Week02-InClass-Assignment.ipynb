{
 "cells": [
  {
   "cell_type": "code",
   "execution_count": 1,
   "id": "ee933006",
   "metadata": {},
   "outputs": [
    {
     "name": "stdout",
     "output_type": "stream",
     "text": [
      "b is greater\n",
      "a is greater\n"
     ]
    }
   ],
   "source": [
    "# # FUNCTION EXAMPLE FROM LECTURE\n",
    "# def comparing(a,b):\n",
    "#     if a==b:\n",
    "#         print(\"they are equal\")\n",
    "#     elif a>b:\n",
    "#         print(\"a is greater\")\n",
    "#     else:\n",
    "#         print(\"b is greater\")\n",
    "# comparing(7,10)\n",
    "# comparing(12,10)\n",
    "\n",
    "\n",
    "# # FOR LOOP EXAMPLE FROM LECTURE\n",
    "# cats = ['Dexter','Frank','Tigger','Panda','Penguin','Basil']\n",
    "# for cat in cats:\n",
    "#     print(cat)"
   ]
  },
  {
   "cell_type": "code",
   "execution_count": 6,
   "id": "4d13e08b",
   "metadata": {},
   "outputs": [
    {
     "name": "stdout",
     "output_type": "stream",
     "text": [
      "Enter a number: 102\n",
      "Enter a number between 1-100: 102\n",
      "Enter a number between 1-100: -5\n",
      "Enter a number between 1-100: 4\n",
      "Enter a number between 1-100: 2\n",
      "Not Weird\n"
     ]
    }
   ],
   "source": [
    "n=int(input(\"Enter a number: \"))\n",
    "\n",
    "while n not in range(1,100):\n",
    "    n=int(input(\"Enter a number between 1-100: \"))\n",
    "\n",
    "# while? for?\n",
    "# bounds() ?\n",
    "    \n",
    "else:\n",
    "    n=int(input(\"Enter a number between 1-100: \"))\n",
    "    def weirdOrNot(n):\n",
    "    #     for 1<n<100:    THIS DIDN'T WORK\n",
    "            if n%2==1:\n",
    "                print(\"Weird\")\n",
    "            elif n%2==0 & 2<=n<=5:\n",
    "                print(\"Not Weird\")\n",
    "            elif n%2==0 & 6<=n<=20:\n",
    "                print(\"Weird\")\n",
    "            else:\n",
    "        #     elif n%2==0 & n>20:    THIS DIDN'T WORK\n",
    "                print(\"Not Weird\")\n",
    "    weirdOrNot(n)    # DOESN'T WORK IF YOU DELETE THIS"
   ]
  },
  {
   "cell_type": "code",
   "execution_count": null,
   "id": "55136592",
   "metadata": {},
   "outputs": [],
   "source": []
  }
 ],
 "metadata": {
  "kernelspec": {
   "display_name": "Python 3 (ipykernel)",
   "language": "python",
   "name": "python3"
  },
  "language_info": {
   "codemirror_mode": {
    "name": "ipython",
    "version": 3
   },
   "file_extension": ".py",
   "mimetype": "text/x-python",
   "name": "python",
   "nbconvert_exporter": "python",
   "pygments_lexer": "ipython3",
   "version": "3.8.10"
  }
 },
 "nbformat": 4,
 "nbformat_minor": 5
}
