{
 "cells": [
  {
   "cell_type": "code",
   "execution_count": 6,
   "id": "58a5724f",
   "metadata": {},
   "outputs": [
    {
     "name": "stdout",
     "output_type": "stream",
     "text": [
      "2\n",
      "4\n",
      "6\n",
      "8\n"
     ]
    }
   ],
   "source": [
    "# warmup = [1,2,3,4,5,6,7,8]\n",
    "# for x in warmup:\n",
    "#     if (x%2==0):\n",
    "#         print(x)\n",
    "#     else:\n",
    "#         pass"
   ]
  },
  {
   "cell_type": "code",
   "execution_count": null,
   "id": "97761b0b",
   "metadata": {},
   "outputs": [],
   "source": [
    "# the_list=[1,2,3,4,5,6,7,8]\n",
    "\n",
    "# # list comprehension\n",
    "\n",
    "# new_list = [x for x in the_list]"
   ]
  }
 ],
 "metadata": {
  "kernelspec": {
   "display_name": "Python 3 (ipykernel)",
   "language": "python",
   "name": "python3"
  },
  "language_info": {
   "codemirror_mode": {
    "name": "ipython",
    "version": 3
   },
   "file_extension": ".py",
   "mimetype": "text/x-python",
   "name": "python",
   "nbconvert_exporter": "python",
   "pygments_lexer": "ipython3",
   "version": "3.8.10"
  }
 },
 "nbformat": 4,
 "nbformat_minor": 5
}
