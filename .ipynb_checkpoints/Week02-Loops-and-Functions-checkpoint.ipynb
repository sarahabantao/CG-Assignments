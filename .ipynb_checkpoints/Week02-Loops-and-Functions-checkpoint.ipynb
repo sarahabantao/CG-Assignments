{
 "cells": [
  {
   "cell_type": "code",
   "execution_count": 2,
   "id": "16ef704d",
   "metadata": {},
   "outputs": [
    {
     "name": "stdout",
     "output_type": "stream",
     "text": [
      "b is greater\n"
     ]
    }
   ],
   "source": [
    "# if... elif... else\n",
    "# if a equals b, return \"they are equal\"\n",
    "    # and if a>b return \"a is greater\"\n",
    "    # and if b>a return \"b is greater\"\n",
    "\n",
    "a=2\n",
    "b=3\n",
    "    \n",
    "#what happens if you do if a>=b instead of the elif line?\n",
    "\n",
    "if a==b:\n",
    "    print(\"they are equal\")\n",
    "elif a>b:\n",
    "    print(\"a is greater\")\n",
    "else:   # OR USE elif b>a\n",
    "    print(\"b is greater\")\n",
    "    "
   ]
  },
  {
   "cell_type": "code",
   "execution_count": 6,
   "id": "b072bd6a",
   "metadata": {},
   "outputs": [
    {
     "name": "stdout",
     "output_type": "stream",
     "text": [
      "7\n",
      "6\n"
     ]
    }
   ],
   "source": [
    "# while loops\n",
    "# repeatedly testing an expression and \n",
    "    #continuing to run what happens in the loop until a condition is met\n",
    "    \n",
    "x=7\n",
    "while x>5:\n",
    "    print(x)\n",
    "    # x=x+1  this will crash the kernel\n",
    "    # x=x-1 is the same as x-=1\n",
    "    x-=1"
   ]
  },
  {
   "cell_type": "code",
   "execution_count": 7,
   "id": "7a33da8d",
   "metadata": {},
   "outputs": [
    {
     "name": "stdout",
     "output_type": "stream",
     "text": [
      "3\n",
      "5\n",
      "7\n",
      "9\n"
     ]
    }
   ],
   "source": [
    "# Create a scenario where x starts at 3 and is incremented\n",
    "    # and you print the value of x while x is less than 10\n",
    "    \n",
    "x=3\n",
    "while x<10:\n",
    "    print(x)\n",
    "    x+=2"
   ]
  },
  {
   "cell_type": "code",
   "execution_count": 11,
   "id": "9c8784b5",
   "metadata": {},
   "outputs": [
    {
     "name": "stdout",
     "output_type": "stream",
     "text": [
      "Dexter\n",
      "Frank\n",
      "Tigger\n",
      "Panda\n",
      "Penguin\n",
      "Basil\n"
     ]
    }
   ],
   "source": [
    "# for loops\n",
    "\n",
    "cats=['Dexter', 'Frank','Tigger','Panda','Penguin','Basil']\n",
    "\n",
    "for x in cats:\n",
    "    print(x)"
   ]
  },
  {
   "cell_type": "code",
   "execution_count": 16,
   "id": "6da3cf57",
   "metadata": {},
   "outputs": [
    {
     "name": "stdout",
     "output_type": "stream",
     "text": [
      "1\n",
      "3\n",
      "5\n",
      "7\n",
      "9\n"
     ]
    }
   ],
   "source": [
    "# https://docs.python.org/3/library/functions.html#func-range\n",
    "\n",
    "# range(start,stop[,step])\n",
    "# the start value is inclusive BUT the stop value is not\n",
    "\n",
    "# for r in range(0,10,2):\n",
    "for r in range(1,10,2):\n",
    "    print(r)"
   ]
  },
  {
   "cell_type": "code",
   "execution_count": null,
   "id": "400c8fc5",
   "metadata": {},
   "outputs": [],
   "source": [
    "# functions\n",
    "\n",
    "# functions let us encapsulate chunks of code that we might want to use again\n",
    "\n"
   ]
  }
 ],
 "metadata": {
  "kernelspec": {
   "display_name": "Python 3 (ipykernel)",
   "language": "python",
   "name": "python3"
  },
  "language_info": {
   "codemirror_mode": {
    "name": "ipython",
    "version": 3
   },
   "file_extension": ".py",
   "mimetype": "text/x-python",
   "name": "python",
   "nbconvert_exporter": "python",
   "pygments_lexer": "ipython3",
   "version": "3.8.10"
  }
 },
 "nbformat": 4,
 "nbformat_minor": 5
}
