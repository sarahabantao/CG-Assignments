{
 "cells": [
  {
   "cell_type": "markdown",
   "metadata": {},
   "source": [
    "### Homework Week 02\n",
    "#### Loops, Functions and Classes\n",
    "1. Do this homework **in order**. \n",
    "2. Be sure to have a solid understanding of Functions before working with Classes. "
   ]
  },
  {
   "cell_type": "markdown",
   "metadata": {},
   "source": [
    "1. Iterate through `integers_list` and `print` values that are multiples of 7."
   ]
  },
  {
   "cell_type": "code",
   "execution_count": 6,
   "metadata": {},
   "outputs": [
    {
     "name": "stdout",
     "output_type": "stream",
     "text": [
      "84\n",
      "245\n",
      "497\n",
      "868\n",
      "49\n",
      "273\n",
      "0\n",
      "665\n",
      "357\n"
     ]
    }
   ],
   "source": [
    "import random\n",
    "integers_list = [random.randint(0,1000) for i in range(50)] # a list comprehension\n",
    "\n",
    "# your code here\n",
    "\n",
    "for number in integers_list:    # for each element in list\n",
    "    if number%7==0:             # if the element is divisible by 7 with remainder 0\n",
    "        print(number)           # print the number\n"
   ]
  },
  {
   "cell_type": "markdown",
   "metadata": {},
   "source": [
    "2. Create `list` of 5 colors as `strings` which are all lowercase. \n",
    "Iterate through the `list` and capitalize each color. \n",
    "You should modify the `list` in place. "
   ]
  },
  {
   "cell_type": "code",
   "execution_count": 1,
   "metadata": {},
   "outputs": [
    {
     "name": "stdout",
     "output_type": "stream",
     "text": [
      "PINK\n",
      "BLUE\n",
      "GREEN\n",
      "BRIGHTER PINK\n",
      "TEAL\n",
      "\n",
      "\n",
      "PINK\n",
      "BLUE\n",
      "GREEN\n",
      "BRIGHTER PINK\n",
      "TEAL\n"
     ]
    }
   ],
   "source": [
    "color_list=[\"pink\", \"blue\", \"green\", \"brighter pink\", \"teal\"]\n",
    "\n",
    "# NOT THIS ONE - CREATE NEW LIST\n",
    "for color in color_list:             # for each element in list\n",
    "    color_list_upper=color.upper()   # capitalize each element and assign to new list\n",
    "    print(color_list_upper)          # print new list\n",
    "    \n",
    "print(\"\\n\")\n",
    "\n",
    "# MODIFY SAME LIST\n",
    "for color in color_list:\n",
    "    print(color.upper())\n"
   ]
  },
  {
   "cell_type": "markdown",
   "metadata": {},
   "source": [
    "3. Loop through the string and eliminate all the asterisks."
   ]
  },
  {
   "cell_type": "code",
   "execution_count": 29,
   "metadata": {},
   "outputs": [
    {
     "name": "stdout",
     "output_type": "stream",
     "text": [
      "My computer has gone crazy and added extra symbols.\n",
      "\n",
      "\n",
      "My computer has gone crazy and added extra symbols.\n"
     ]
    }
   ],
   "source": [
    "asterisk = 'My *compu*ter has go*ne craz***y an*d add*ed extra *symbols.*'\n",
    "# your code here\n",
    "\n",
    "# NOT THIS ONE - WORKS, BUT DOESN'T LOOP\n",
    "new1=asterisk.replace('*',\"\")\n",
    "print(new1)\n",
    "\n",
    "print(\"\\n\")\n",
    "\n",
    "# USES A FOR LOOP\n",
    "if character=='*':                       # if the char is an asterisk\n",
    "    for character in asterisk:           # for each char in asterisk\n",
    "        new2=asterisk.replace('*',\"\")    # replace the asterisk with \"\" and put in new2\n",
    "    print(new2)\n"
   ]
  },
  {
   "cell_type": "markdown",
   "metadata": {},
   "source": [
    "4. Write a `while` loop that increments `counter` until it reaches 7."
   ]
  },
  {
   "cell_type": "code",
   "execution_count": 33,
   "metadata": {},
   "outputs": [
    {
     "name": "stdout",
     "output_type": "stream",
     "text": [
      "1\n",
      "2\n",
      "3\n",
      "4\n",
      "5\n",
      "6\n",
      "7\n"
     ]
    }
   ],
   "source": [
    "counter = 0\n",
    "# your code here\n",
    "\n",
    "while counter < 7:    # while counter is less than 7\n",
    "    counter+=1        # add 1 to counter\n",
    "    print(counter)    # print counter"
   ]
  },
  {
   "cell_type": "markdown",
   "metadata": {},
   "source": [
    "5. Loop over `double_trouble` and eliminate any 'mosquito'."
   ]
  },
  {
   "cell_type": "code",
   "execution_count": 78,
   "metadata": {},
   "outputs": [
    {
     "name": "stdout",
     "output_type": "stream",
     "text": [
      "['cat', 'dog', ['mouse', 'mosquito', 'bat', 'mosquito'], ['elephant', 'dog', 'whale', 'lion', 32, 'mosquito'], 'bird', [], 'mosquito']\n",
      "['cat', 'dog', ['mouse', 'bat'], ['elephant', 'dog', 'whale', 'lion', 32], 'bird', []]\n"
     ]
    }
   ],
   "source": [
    "double_trouble = ['cat', 'dog', ['mouse','mosquito','bat','mosquito'],['elephant','dog','whale','lion',32,'mosquito'],'bird',[],'mosquito']\n",
    "# your code here\n",
    "print(double_trouble)\n",
    "\n",
    "\n",
    "for element in double_trouble:               # for each element in original list\n",
    "    for subelement in element:               # for each sub-element in each element\n",
    "        if subelement=='mosquito':           # if sub-element is mosquito\n",
    "            element.remove('mosquito')       # remove that sub-element\n",
    "    if element=='mosquito':                  # if element is mosquit\n",
    "        double_trouble.remove('mosquito')    # remove that element\n",
    "        print(double_trouble)                # print original list\n",
    "        \n",
    "#     print(double_trouble)    # print n times\n",
    "# print(double_trouble)        # this one works"
   ]
  },
  {
   "cell_type": "markdown",
   "metadata": {},
   "source": [
    "6. Loop through the dictionary of phone numbers and correct the parentheses. "
   ]
  },
  {
   "cell_type": "code",
   "execution_count": 28,
   "metadata": {},
   "outputs": [],
   "source": [
    "phone_numbers = {'Jill':'1-)555(-567-8910',\n",
    "                'Jen':'1-)555(-567-8910',\n",
    "                'Jan':'1-)555(-567-8910',\n",
    "                'Jane':'1-)555(-567-8910',\n",
    "                'Jerri':'1-)555(-567-8910'}\n",
    "\n",
    "# GO BACK TO THIS ONE, DON'T DELETE YOUR WORK NEXT TIME"
   ]
  },
  {
   "cell_type": "markdown",
   "metadata": {},
   "source": [
    "7. Create a function that takes in two numbers.\n",
    "\n",
    "If the numbers are both even add them and `return` the result.\n",
    "\n",
    "If the numbers are odd, subtract the second number from the first and `return` the result.\n",
    "\n",
    "(Assume you'll always get integers)"
   ]
  },
  {
   "cell_type": "code",
   "execution_count": 47,
   "metadata": {},
   "outputs": [
    {
     "data": {
      "text/plain": [
       "6"
      ]
     },
     "execution_count": 47,
     "metadata": {},
     "output_type": "execute_result"
    }
   ],
   "source": [
    "\n",
    "def even_or_odd(a,b):\n",
    "    if a%2==0 & b%2==0:    # if both a and b are even\n",
    "        return(a+b)        # return a + b\n",
    "    if a%2==1 & b%2==1:    # if both a and b are odd\n",
    "        return(a-b)        # return a - b\n",
    "    else:                  # otherwise\n",
    "        return(a,b)        # return a, b\n",
    "\n",
    "even_or_odd(2,4)"
   ]
  },
  {
   "cell_type": "markdown",
   "metadata": {},
   "source": [
    "8. Create a function that takes in a `string` and removes all non-alphanumeric characters."
   ]
  },
  {
   "cell_type": "markdown",
   "metadata": {},
   "source": [
    "character(\"this string has %^&! some weird values02\") # INPUT"
   ]
  },
  {
   "cell_type": "markdown",
   "metadata": {},
   "source": [
    "'thisstringhassomeweirdvalues02' # OUTPUT"
   ]
  },
  {
   "cell_type": "code",
   "execution_count": null,
   "metadata": {},
   "outputs": [],
   "source": [
    "weird_values=\"this string has %^&! some weird values02\"\n",
    "\n",
    "\n",
    "def only_alphanum(some_string):          # function to use one parameter\n",
    "    container=[]                         # empty container\n",
    "    for eachthing in some_string:        # for each element in the given string\n",
    "        if eachthing.isalnum():          # if the element is alphanumeric # spaces are not\n",
    "            container.append(eachthing)  # put it in the container\n",
    "    return(\"\".join(container))           # join all elements in container to single string\n",
    "\n",
    "only_alphanum(weird_values)"
   ]
  },
  {
   "cell_type": "markdown",
   "metadata": {},
   "source": [
    "9. Create a function to convert Celsius to Farenheight and print the result. \n",
    "\n",
    "Bonus(Optional): Include the degree symbol in the output."
   ]
  },
  {
   "cell_type": "code",
   "execution_count": 87,
   "metadata": {},
   "outputs": [
    {
     "data": {
      "text/plain": [
       "32.0"
      ]
     },
     "execution_count": 87,
     "metadata": {},
     "output_type": "execute_result"
    }
   ],
   "source": [
    "# (Celsius x 9/5)+32=Fahrenheit\n",
    "\n",
    "def celsius_to_fahrenheit(celsius):\n",
    "    fahrenheit=(celsius*9/5)+32\n",
    "    return fahrenheit\n",
    "\n",
    "celsius_to_fahrenheit(0)"
   ]
  },
  {
   "cell_type": "markdown",
   "metadata": {},
   "source": [
    "10. Create a function that prints the fibonacci sequence from 0 to 25. "
   ]
  },
  {
   "cell_type": "code",
   "execution_count": 16,
   "metadata": {},
   "outputs": [],
   "source": [
    "# WORKING ON THIS ONE\n",
    "\n",
    "# def fibonacci():\n",
    "#     a=0\n",
    "#     b=a+\n",
    "#     container=[]\n",
    "#     while a<=25:\n",
    "#         container.append(a)\n",
    "# #         a+=1\n",
    "# #         a=a+[a-1]\n",
    "#     print(container)\n",
    "\n",
    "# fibonacci()"
   ]
  },
  {
   "cell_type": "markdown",
   "metadata": {},
   "source": [
    "11. Create two functions. One function that accepts args `a` and `b` and returns `a + b`. \n",
    "\n",
    "Create a second function that accepts the first function as the 3rd argument as well as a and b.\n"
   ]
  },
  {
   "cell_type": "code",
   "execution_count": null,
   "metadata": {},
   "outputs": [],
   "source": [
    "# you do the first function\n",
    "\n",
    "def some_function(a,b):\n",
    "    return a+b\n",
    "\n",
    "# second function\n",
    "# Here's some starter code to avoid confusion.\n",
    "# Functions can be passed around like any other object. \n",
    "\n",
    "def second_function(a,b,some_function):\n",
    "    return a,b,some_function\n",
    "    \n",
    "second_function(2,4,some_function(2,4))\n",
    "\n",
    "#     pass"
   ]
  },
  {
   "cell_type": "markdown",
   "metadata": {},
   "source": [
    "12. Create a function that prints prime number from 0 to 100. "
   ]
  },
  {
   "cell_type": "code",
   "execution_count": 38,
   "metadata": {},
   "outputs": [
    {
     "data": {
      "text/plain": [
       "0"
      ]
     },
     "execution_count": 38,
     "metadata": {},
     "output_type": "execute_result"
    }
   ],
   "source": [
    "# WORKING ON THIS ONE\n",
    "\n",
    "# def primes():\n",
    "#     minrange=0\n",
    "#     maxrange=100\n",
    "#     for number in range(minrange,maxrange+1):\n",
    "#         for each in range(minrange,maxrange):\n",
    "#             if(each%number==0):\n",
    "                \n",
    "# primes()"
   ]
  },
  {
   "cell_type": "markdown",
   "metadata": {},
   "source": [
    "13. Now's your chance to show off. Create a function that does something that has not already been done in the homework. Get creative. "
   ]
  },
  {
   "cell_type": "code",
   "execution_count": 3,
   "metadata": {},
   "outputs": [
    {
     "name": "stdout",
     "output_type": "stream",
     "text": [
      "20\n",
      "17\n",
      "14\n",
      "11\n",
      "8\n",
      "5\n",
      "2\n",
      "-1\n",
      "-4\n",
      "-7\n",
      "-10\n",
      "-13\n",
      "-16\n",
      "-19\n"
     ]
    }
   ],
   "source": [
    "def backwards(a):\n",
    "    while a>=-20:\n",
    "#         if a%5==0:\n",
    "            print(a)\n",
    "            a-=3\n",
    "backwards(20)"
   ]
  },
  {
   "cell_type": "markdown",
   "metadata": {},
   "source": [
    "14. Add an attribute called `age` to the `__init__` method of the `Person` class.\n",
    "\n",
    "Create an instance of `Person()` and print the `age`."
   ]
  },
  {
   "cell_type": "code",
   "execution_count": 4,
   "metadata": {},
   "outputs": [
    {
     "name": "stdout",
     "output_type": "stream",
     "text": [
      "20\n"
     ]
    }
   ],
   "source": [
    "class Person():\n",
    "    \n",
    "    def __init__(self, name, occupation, country,age):\n",
    "        self.name = name\n",
    "        self.occupation = occupation\n",
    "        self.country = country\n",
    "        # you attribute goes here\n",
    "        self.age = age\n",
    "        \n",
    "mouse=Person(\"Mickey\",\"Mouseketeer\",\"US\",20)\n",
    "print(mouse.age)"
   ]
  },
  {
   "cell_type": "markdown",
   "metadata": {},
   "source": [
    "15. Creat an instance of the class `Candy`. \n",
    "\n",
    "Add an attribute called `cost` on your instance. (Don't modify the class starter code.)\n",
    "\n",
    "Print the instance's `cost` attribute.\n",
    "\n",
    "Bonus(optional): Add a function of your choice to the instance. "
   ]
  },
  {
   "cell_type": "code",
   "execution_count": 8,
   "metadata": {},
   "outputs": [],
   "source": [
    "class Candy():\n",
    "    \n",
    "    def __init__(self, kind='chocolate', brand= 'Nestle', caramel = False):\n",
    "        self.type = kind\n",
    "        self.brand = brand\n",
    "        self.caramel = caramel\n",
    "        "
   ]
  },
  {
   "cell_type": "code",
   "execution_count": 12,
   "metadata": {},
   "outputs": [],
   "source": [
    "# WORKING ON THIS ONE\n",
    "\n",
    "# class Candy():\n",
    "    \n",
    "#     def __init__(self, kind='chocolate', brand= 'Nestle', caramel = False):\n",
    "#         self.type = kind\n",
    "#         self.brand = brand\n",
    "#         self.caramel = caramel\n",
    "\n",
    "# # DO NOT CHANGE THE STARTER CODE ^^^        \n",
    "        \n",
    "# class addingcost(Candy):\n",
    "    \n",
    "#     def __init__(self,thecost=5, kind, brand, caramel):\n",
    "#         super().__init__(kind, brand, caramel)\n",
    "#         self.cost = thecost\n",
    "        \n",
    "# candies = Candy()\n",
    "# print(candies)"
   ]
  },
  {
   "cell_type": "markdown",
   "metadata": {},
   "source": [
    "16. Add an instance method to our class `Greet` that prints a greeting including `greeting` and the `name`. \n",
    "\n",
    "Example:\n",
    "\n",
    "`jen = Greet()`\n",
    "\n",
    "`jen.greet_method()` returns `\"Hello Jennifer\"`\n"
   ]
  },
  {
   "cell_type": "code",
   "execution_count": 14,
   "metadata": {},
   "outputs": [
    {
     "name": "stdout",
     "output_type": "stream",
     "text": [
      "Hello Jennifer\n"
     ]
    }
   ],
   "source": [
    "class Greet():\n",
    "    \n",
    "    def __init__(self, name='Jennifer', language='english', greeting=\"Hello\"):\n",
    "        \n",
    "        self.language = language\n",
    "        self.greeting = greeting\n",
    "        self.name = name\n",
    "        \n",
    "    # Your method here\n",
    "    \n",
    "    def greet_method(self):\n",
    "        print(\"Hello \"+self.name)\n",
    "        \n",
    "jen=Greet()\n",
    "jen.greet_method()"
   ]
  },
  {
   "cell_type": "markdown",
   "metadata": {},
   "source": [
    "17. Add a line to the follwing code that will increment `employee_count` by 1 for **all** instances of `Employee`.\n",
    "\n",
    "The code should run each time an new instance of`Employee` is created. \n",
    "\n",
    "Hint: You don't need methods. Just a single expression will work. And it does NOT inlcude the word `self`. "
   ]
  },
  {
   "cell_type": "code",
   "execution_count": 16,
   "metadata": {},
   "outputs": [
    {
     "name": "stdout",
     "output_type": "stream",
     "text": [
      "1\n",
      "2\n"
     ]
    }
   ],
   "source": [
    "class Employee():\n",
    "    \n",
    "    # class variables. Applies to all instances of this class during creation.\n",
    "    yearly_bonus = 1.01 # not used anywhere in this example\n",
    "    \n",
    "    employee_count = 0 # This variable will change for all instances of the class.\n",
    "    \n",
    "       \n",
    "    def __init__(self,name, age, base_pay): # creates an instance of our object with unique attributes\n",
    "        \n",
    "        self.name = name\n",
    "        self.age = age\n",
    "        self.base_pay = base_pay\n",
    "        \n",
    "        \n",
    "        # your code here inside the __init__ method. \n",
    "        Employee.employee_count+=1\n",
    "        \n",
    "emp1 = Employee('Matt', 32,40000)\n",
    "print(emp1.employee_count) # should be 1 if the __init__ method is working properly. \n",
    "\n",
    "emp2 = emp1 = Employee('Joe', 22,50000) # should be 2 if the __init__ method is working properly. \n",
    "print(emp2.employee_count)\n",
    "\n"
   ]
  },
  {
   "cell_type": "markdown",
   "metadata": {},
   "source": [
    "18 . Add a `static` method of your choice to the class below. \n",
    "\n",
    "Instaiate an object and call your method. \n",
    "\n",
    "What is a static method anyway? \n"
   ]
  },
  {
   "cell_type": "code",
   "execution_count": 11,
   "metadata": {},
   "outputs": [
    {
     "name": "stdout",
     "output_type": "stream",
     "text": [
      "Meryl Streep: This is my line...\n"
     ]
    }
   ],
   "source": [
    "# static cannot change obj or class\n",
    "\n",
    "class actress():\n",
    "    def __init__(self, name = 'Meryl Streep'):\n",
    "        self.name = name\n",
    "        \n",
    "    def act(self, line):\n",
    "        print(f'{self.name}: {line}')\n",
    "        \n",
    "    # your static method goes here.\n",
    "        \n",
    "meryl = actress()\n",
    "meryl.act('This is my line...')"
   ]
  },
  {
   "cell_type": "code",
   "execution_count": null,
   "metadata": {},
   "outputs": [],
   "source": []
  },
  {
   "cell_type": "markdown",
   "metadata": {},
   "source": [
    "19. Create a `class` called Car that accepts 3 attributes (make, model and year). \n",
    "\n",
    "In the `__init__` method give your instance those three attributes. \n",
    "\n",
    "Instantiate (create) an object that is your dream car. \n",
    "\n",
    "Print the make of your dream car using the object attributes. \n",
    "\n",
    "Then call the dir() method on your new object. (See your attrs are now included!)"
   ]
  },
  {
   "cell_type": "code",
   "execution_count": null,
   "metadata": {},
   "outputs": [],
   "source": []
  },
  {
   "cell_type": "markdown",
   "metadata": {},
   "source": [
    "20. Create a class called `Dice` that accepts a single argument called `number_of_dice`. \n",
    "\n",
    "Create an instance method called `roll`. \n",
    "\n",
    "`roll` should randomly pick a number for each die when called and print the results as a list. \n",
    "\n",
    "Create an instance of `Dice`. Then call `roll()` on your instance.\n",
    "\n",
    "Hint: Inside your class create an empty list called `dice`."
   ]
  },
  {
   "cell_type": "code",
   "execution_count": 12,
   "metadata": {},
   "outputs": [
    {
     "name": "stdout",
     "output_type": "stream",
     "text": [
      "3\n"
     ]
    }
   ],
   "source": [
    "# Helpful starter code\n",
    "from random import randrange\n",
    "\n",
    "print(randrange(1,7)) # randomly generates a number between 1 and 6"
   ]
  },
  {
   "cell_type": "code",
   "execution_count": null,
   "metadata": {},
   "outputs": [],
   "source": []
  },
  {
   "cell_type": "markdown",
   "metadata": {},
   "source": [
    "Bonus(optional):\n",
    "\n",
    "0. Create a class of your choice.\n",
    "1. Give it instance variables and class variables. \n",
    "2. Give it a classmethod. \n",
    "3. Give it a regular method (instance method).\n",
    "4. Give it a static method. \n",
    "\n",
    "Show how each works by printing an example. "
   ]
  },
  {
   "cell_type": "code",
   "execution_count": null,
   "metadata": {},
   "outputs": [],
   "source": []
  }
 ],
 "metadata": {
  "kernelspec": {
   "display_name": "Python 3 (ipykernel)",
   "language": "python",
   "name": "python3"
  },
  "language_info": {
   "codemirror_mode": {
    "name": "ipython",
    "version": 3
   },
   "file_extension": ".py",
   "mimetype": "text/x-python",
   "name": "python",
   "nbconvert_exporter": "python",
   "pygments_lexer": "ipython3",
   "version": "3.8.10"
  }
 },
 "nbformat": 4,
 "nbformat_minor": 4
}
