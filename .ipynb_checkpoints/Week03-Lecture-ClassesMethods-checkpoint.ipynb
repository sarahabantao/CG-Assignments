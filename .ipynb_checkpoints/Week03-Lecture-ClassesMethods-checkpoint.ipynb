{
 "cells": [
  {
   "cell_type": "code",
   "execution_count": 15,
   "id": "68a2b63a",
   "metadata": {},
   "outputs": [
    {
     "name": "stdout",
     "output_type": "stream",
     "text": [
      "*playing music*\n",
      "stop playing\n"
     ]
    }
   ],
   "source": [
    "\n",
    "class Music():\n",
    "    \n",
    "    @staticmethod\n",
    "    def play():\n",
    "        print(\"*playing music*\")\n",
    "        \n",
    "    # self implies that the method is related to an instance of the class\n",
    "    \n",
    "    def stop(self):\n",
    "        print(\"stop playing\")\n",
    "\n",
    "Music.play()   # don't need to create an instance to call\n",
    "song=Music()   # need to create an instance to call\n",
    "song.stop()"
   ]
  },
  {
   "cell_type": "code",
   "execution_count": null,
   "id": "cda30181",
   "metadata": {},
   "outputs": [],
   "source": [
    "class AllTheClassMethods:\n",
    "    \n",
    "    def method(self)\n",
    "    return \"instance method called\", self\n",
    "\n"
   ]
  }
 ],
 "metadata": {
  "kernelspec": {
   "display_name": "Python 3 (ipykernel)",
   "language": "python",
   "name": "python3"
  },
  "language_info": {
   "codemirror_mode": {
    "name": "ipython",
    "version": 3
   },
   "file_extension": ".py",
   "mimetype": "text/x-python",
   "name": "python",
   "nbconvert_exporter": "python",
   "pygments_lexer": "ipython3",
   "version": "3.8.10"
  }
 },
 "nbformat": 4,
 "nbformat_minor": 5
}
