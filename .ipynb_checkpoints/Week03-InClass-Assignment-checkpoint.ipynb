{
 "cells": [
  {
   "cell_type": "code",
   "execution_count": 1,
   "id": "38d25b3a",
   "metadata": {},
   "outputs": [
    {
     "name": "stdout",
     "output_type": "stream",
     "text": [
      "a+b=6\n",
      "a-b=zero\n",
      "a*b=9\n",
      "\n",
      "\n",
      "a+b=8\n",
      "a-b=-2\n",
      "a*b=15\n"
     ]
    }
   ],
   "source": [
    "# f'string' # this lets you use the variables\n",
    "\n",
    "def mathfunction(a,b):\n",
    "    print(f'a+b={(a+b)}')\n",
    "    \n",
    "    if (a-b==0):\n",
    "        print('a-b=zero')\n",
    "        \n",
    "    elif (a-b!=0):\n",
    "        print(f'a-b={(a-b)}')\n",
    "        \n",
    "    print(f'a*b={(a*b)}')\n",
    "#     print(\"a*b= \" + str(a*b))\n",
    "\n",
    "mathfunction(3,3)\n",
    "print(\"\\n\")\n",
    "mathfunction(3,5)"
   ]
  }
 ],
 "metadata": {
  "kernelspec": {
   "display_name": "Python 3 (ipykernel)",
   "language": "python",
   "name": "python3"
  },
  "language_info": {
   "codemirror_mode": {
    "name": "ipython",
    "version": 3
   },
   "file_extension": ".py",
   "mimetype": "text/x-python",
   "name": "python",
   "nbconvert_exporter": "python",
   "pygments_lexer": "ipython3",
   "version": "3.8.10"
  }
 },
 "nbformat": 4,
 "nbformat_minor": 5
}
