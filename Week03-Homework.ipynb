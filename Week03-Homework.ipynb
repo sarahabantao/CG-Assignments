{
 "cells": [
  {
   "cell_type": "markdown",
   "source": [
    "### Homework 3 Numpy Arrays\n",
    "\n",
    "1. Open `cars.csv` in jupyter and look at the data. (Double click `cars.csv` to open in a new tab).\n",
    "2. We are converting each **column** into an numpy array.\n",
    "3. Notice we have text, integer and float data. \n",
    "4. Take care not to overwrite your starter code."
   ],
   "metadata": {}
  },
  {
   "cell_type": "code",
   "execution_count": 1,
   "source": [
    "#Starter code. Do NOT modify this cell\r\n",
    "import pandas as pd\r\n",
    "import numpy as np\r\n",
    "\r\n",
    "# Read in dataset\r\n",
    "df = pd.read_csv('cars.csv',delimiter=';')\r\n",
    "\r\n",
    "# Convert each column to an np.array\r\n",
    "car = df.Car.to_numpy()\r\n",
    "mpg = df.MPG.to_numpy()\r\n",
    "cylinders = df.Cylinders.to_numpy()\r\n",
    "displacement = df.Displacement.to_numpy()\r\n",
    "horsepower = df.Horsepower.to_numpy()\r\n",
    "weight = df.Weight.to_numpy()\r\n",
    "acceleration = df.Acceleration.to_numpy()\r\n",
    "model = df.Model.to_numpy()\r\n",
    "origin = df.Origin.to_numpy()\r\n",
    "\r\n",
    "# create an array of headers\r\n",
    "headers = np.array(['Car', 'MPG', 'Cylinders', 'Displacement', 'Horsepower', 'Weight','Acceleration', 'Model', 'Origin'])\r\n"
   ],
   "outputs": [],
   "metadata": {}
  },
  {
   "cell_type": "markdown",
   "source": [
    "1. How can you get help on `np.array`?\n",
    "\n",
    "Call dir() on np.array.\n",
    "\n",
    "Call dir() on car.\n",
    "\n",
    "Note the difference. `car` has methods and attributes we can use."
   ],
   "metadata": {}
  },
  {
   "cell_type": "code",
   "execution_count": 10,
   "source": [
    "\r\n",
    "# help(np.array)  # returns functionality of np.array\r\n",
    "# dir(np.array)   # returns list of attributes for np.array\r\n",
    "# dir(car)        # returns list of attributes for car"
   ],
   "outputs": [],
   "metadata": {}
  },
  {
   "cell_type": "markdown",
   "source": [
    " 2.What are the numpy datatypes for the `car`,`mpg`, `horsepower` and `origin` arrays? (Hint: Not `type(car)` and use `print()` to print the numpy type.)"
   ],
   "metadata": {}
  },
  {
   "cell_type": "code",
   "execution_count": 33,
   "source": [
    "print(car.dtype)\r\n",
    "car2=car.astype(str) #unicode\r\n",
    "print(car2.dtype)\r\n",
    "\r\n",
    "print(mpg.dtype)\r\n",
    "print(horsepower.dtype)\r\n",
    "\r\n",
    "print(origin.dtype)\r\n",
    "origin2=origin.astype(str)  #unicode\r\n",
    "print(origin2.dtype)"
   ],
   "outputs": [
    {
     "output_type": "stream",
     "name": "stdout",
     "text": [
      "object\n",
      "<U36\n",
      "float64\n",
      "float64\n",
      "object\n",
      "<U6\n"
     ]
    }
   ],
   "metadata": {}
  },
  {
   "cell_type": "markdown",
   "source": [
    "3.`numpy` is often imported as `np`. What is this action called? Why might you do this? "
   ],
   "metadata": {}
  },
  {
   "cell_type": "code",
   "execution_count": null,
   "source": [
    "# This is called an alias\r\n",
    "# We would import as an alias to shorten \"numpy\" to \"np\"\r\n",
    "    # This is quicker to type\r\n",
    "    # This particular 'np' is conventionally used"
   ],
   "outputs": [],
   "metadata": {}
  },
  {
   "cell_type": "markdown",
   "source": [
    "4.Each of the arrays (cars, mpg, cylinders, etc..) has how many dimensions? Show how to find this using code. "
   ],
   "metadata": {}
  },
  {
   "cell_type": "code",
   "execution_count": 42,
   "source": [
    "print(car.ndim)\r\n",
    "print(mpg.ndim)\r\n",
    "print(cylinders.ndim)\r\n",
    "# These arrays have 1 dimension, use .ndim to show this\r\n",
    "    # ndim is number of dimensions\r\n",
    "    # print() the name_of_array.ndim\r\n"
   ],
   "outputs": [
    {
     "output_type": "stream",
     "name": "stdout",
     "text": [
      "1\n",
      "1\n",
      "1\n"
     ]
    }
   ],
   "metadata": {}
  },
  {
   "cell_type": "markdown",
   "source": [
    "5.Show how to:\n",
    "\n",
    "- multiply the `mpg` array by 12.\n",
    "- divide the `mpg` array by 3.\n",
    "- raise the `mpg` array to the power of 4.\n",
    "- take the square root of the `mpg` array."
   ],
   "metadata": {}
  },
  {
   "cell_type": "code",
   "execution_count": 49,
   "source": [
    "# mpg*2\r\n",
    "# mpg/3\r\n",
    "# mpg**4\r\n",
    "# np.sqrt(mpg)"
   ],
   "outputs": [],
   "metadata": {
    "scrolled": true
   }
  },
  {
   "cell_type": "markdown",
   "source": [
    "6.What is the ___ of `horsepower`?\n",
    "- sum\n",
    "- min\n",
    "- max\n",
    "- median\n",
    "- Optional: mode (May need to google help)"
   ],
   "metadata": {}
  },
  {
   "cell_type": "code",
   "execution_count": 60,
   "source": [
    "from scipy import stats\r\n",
    "print(np.sum(horsepower))\r\n",
    "print(np.min(horsepower))\r\n",
    "print(np.max(horsepower))\r\n",
    "print(np.median(horsepower))\r\n",
    "print(stats.mode(horsepower))"
   ],
   "outputs": [
    {
     "output_type": "stream",
     "name": "stdout",
     "text": [
      "42033.0\n",
      "0.0\n",
      "230.0\n",
      "93.5\n",
      "ModeResult(mode=array([150.]), count=array([22]))\n"
     ]
    }
   ],
   "metadata": {}
  },
  {
   "cell_type": "markdown",
   "source": [
    "7.Select a subset of `acceleration`. \n",
    "\n",
    "- Select only the first 5 elements.\n",
    "- Select every other element (new selection)."
   ],
   "metadata": {}
  },
  {
   "cell_type": "code",
   "execution_count": 65,
   "source": [
    "first_five=acceleration[0:5]\r\n",
    "print(first_five)\r\n",
    "\r\n",
    "every_other=acceleration[0::2]  # slicing [start:stop:step]\r\n",
    "print(every_other)"
   ],
   "outputs": [
    {
     "output_type": "stream",
     "name": "stdout",
     "text": [
      "[12.  11.5 11.  12.  10.5]\n",
      "[12.  11.  10.5  9.  10.  17.5 11.  11.   8.   9.5 15.  15.5 14.5 17.5\n",
      " 17.5 15.  15.  18.5 15.5 19.  13.  15.5 15.5 11.5 13.  12.  13.5 15.\n",
      " 14.  19.5 19.  19.  15.5 23.5 16.5 12.  13.  11.  13.5 13.5 14.  14.\n",
      " 18.  18.  17.  15.  13.  13.  12.5 12.  14.5 11.  16.5 16.  16.  14.\n",
      " 13.  15.  19.5 13.5 14.  13.  19.5 14.  11.  13.5 16.5 16.  19.  21.\n",
      " 17.  16.5 14.5 16.  16.5 14.5 19.  15.5 15.  16.  16.  19.5 14.  13.5\n",
      " 18.5 19.  13.5 16.  16.  13.5 17.  14.  15.  14.5 17.5 16.9 17.7 13.\n",
      " 13.9 15.4 17.6 22.2 14.2 17.7 16.2 12.2 16.4 15.7 21.9 16.7 12.  14.\n",
      " 14.8 15.5 12.5 13.7 16.4 17.7 11.1 12.2 14.5 18.2 17.  16.4 14.5 13.5\n",
      " 14.4 18.6 15.5 12.8 18.2 15.4 17.2 16.7 15.1 13.4 13.7 14.2 14.5 16.7\n",
      " 14.9 13.6 15.8 16.6 18.2 18.2 15.4 13.2 14.9 15.  14.  14.4 20.1 24.8\n",
      " 13.2 19.2 16.  12.9 14.7 15.5 16.5 20.1 15.8 17.5 15.2 14.4 21.7 19.9\n",
      " 13.8 18.  11.4 15.1 17.  16.4 12.6 16.9 16.1 19.4 16.  16.2 14.2 14.4\n",
      " 14.8 20.4 19.6 13.8 19.  16.6 18.6 16.2 18.  20.5 18.2 14.7 14.5 16.9\n",
      " 15.7 16.4 14.5 13.9 17.3 24.6 18.6]\n"
     ]
    }
   ],
   "metadata": {}
  },
  {
   "cell_type": "markdown",
   "source": [
    "8.Show how to select the number `99` in the array below. "
   ],
   "metadata": {}
  },
  {
   "cell_type": "code",
   "execution_count": 19,
   "source": [
    "select_99 = np.array([[1,2,3],\r\n",
    "                      [4,5,99]])"
   ],
   "outputs": [],
   "metadata": {}
  },
  {
   "cell_type": "code",
   "execution_count": 70,
   "source": [
    "select_99 = np.array([[1,2,3],\r\n",
    "                      [4,5,99]])\r\n",
    "select_99[1][2]"
   ],
   "outputs": [
    {
     "output_type": "execute_result",
     "data": {
      "text/plain": [
       "99"
      ]
     },
     "metadata": {},
     "execution_count": 70
    }
   ],
   "metadata": {}
  },
  {
   "cell_type": "markdown",
   "source": [
    "9.Select the last element in each subarray (do this with one operation.)"
   ],
   "metadata": {}
  },
  {
   "cell_type": "code",
   "execution_count": 21,
   "source": [
    "select_more = np.array([[1,2,3],\r\n",
    "                      [4,5,6],\r\n",
    "                      [7,8,9]])\r\n",
    "# returns array([3, 6, 9])"
   ],
   "outputs": [],
   "metadata": {}
  },
  {
   "cell_type": "code",
   "execution_count": 86,
   "source": [
    "select_more = np.array([[1,2,3],\r\n",
    "                      [4,5,6],\r\n",
    "                      [7,8,9]])\r\n",
    "select_more[:,2]"
   ],
   "outputs": [
    {
     "output_type": "execute_result",
     "data": {
      "text/plain": [
       "array([3, 6, 9])"
      ]
     },
     "metadata": {},
     "execution_count": 86
    }
   ],
   "metadata": {}
  },
  {
   "cell_type": "markdown",
   "source": [
    "10.Use the built-in `np.lookfor()` function to search for `'log'`.\n",
    "\n",
    "Use the function you find and apply it to `mpg`."
   ],
   "metadata": {}
  },
  {
   "cell_type": "code",
   "execution_count": 95,
   "source": [
    "# np.lookfor(\"log\")\r\n",
    "# np.lookfor(np.log)\r\n",
    "np.log(mpg)"
   ],
   "outputs": [
    {
     "output_type": "stream",
     "name": "stderr",
     "text": [
      "C:\\Users\\Sarah\\AppData\\Local\\Temp/ipykernel_10772/3512358094.py:3: RuntimeWarning: divide by zero encountered in log\n",
      "  np.log(mpg)\n"
     ]
    },
    {
     "output_type": "execute_result",
     "data": {
      "text/plain": [
       "array([2.89037176, 2.7080502 , 2.89037176, 2.77258872, 2.83321334,\n",
       "       2.7080502 , 2.63905733, 2.63905733, 2.63905733, 2.7080502 ,\n",
       "             -inf,       -inf,       -inf,       -inf,       -inf,\n",
       "       2.7080502 , 2.63905733,       -inf, 2.7080502 , 2.63905733,\n",
       "       3.17805383, 3.09104245, 2.89037176, 3.04452244, 3.29583687,\n",
       "       3.25809654, 3.21887582, 3.17805383, 3.21887582, 3.25809654,\n",
       "       3.04452244, 2.30258509, 2.30258509, 2.39789527, 2.19722458,\n",
       "       3.29583687, 3.33220451, 3.21887582, 3.21887582,       -inf,\n",
       "       2.94443898, 2.77258872, 2.83321334, 2.94443898, 2.89037176,\n",
       "       2.63905733, 2.63905733, 2.63905733, 2.63905733, 2.48490665,\n",
       "       2.56494936, 2.56494936, 2.89037176, 3.09104245, 2.94443898,\n",
       "       2.89037176, 3.13549422, 3.33220451, 3.40119738, 3.40119738,\n",
       "       3.4339872 , 3.55534806, 3.29583687, 3.25809654, 3.17805383,\n",
       "       3.21887582, 3.13549422, 2.99573227, 3.04452244, 2.56494936,\n",
       "       2.63905733, 2.7080502 , 2.63905733, 2.83321334, 2.39789527,\n",
       "       2.56494936, 2.48490665, 2.56494936, 2.94443898, 2.7080502 ,\n",
       "       2.56494936, 2.56494936, 2.63905733, 2.89037176, 3.09104245,\n",
       "       3.04452244, 3.25809654, 3.09104245, 3.33220451, 3.13549422,\n",
       "       3.33220451, 3.29583687, 2.56494936, 2.63905733, 2.56494936,\n",
       "       2.63905733, 2.7080502 , 2.48490665, 2.56494936, 2.56494936,\n",
       "       2.63905733, 2.56494936, 2.48490665, 2.56494936, 2.89037176,\n",
       "       2.77258872, 2.89037176, 2.89037176, 3.13549422, 3.25809654,\n",
       "       2.39789527, 2.48490665, 2.56494936, 2.48490665, 2.89037176,\n",
       "       2.99573227, 3.04452244, 3.09104245, 2.89037176, 2.94443898,\n",
       "       3.04452244, 3.25809654, 2.7080502 , 2.77258872, 3.36729583,\n",
       "       3.17805383, 2.99573227, 2.94443898, 2.7080502 , 3.17805383,\n",
       "       2.99573227, 2.39789527, 2.99573227, 3.04452244, 2.94443898,\n",
       "       2.7080502 , 3.4339872 , 3.25809654, 3.4657359 , 3.21887582,\n",
       "       2.77258872, 2.77258872, 2.89037176, 2.77258872, 2.56494936,\n",
       "       2.63905733, 2.63905733, 2.63905733, 3.36729583, 3.25809654,\n",
       "       3.25809654, 3.4339872 , 3.4657359 , 3.33220451, 3.17805383,\n",
       "       3.25809654, 3.17805383, 3.25809654, 3.4339872 , 2.94443898,\n",
       "       2.89037176, 2.7080502 , 2.7080502 , 2.77258872, 2.7080502 ,\n",
       "       2.77258872, 2.63905733, 2.83321334, 2.77258872, 2.7080502 ,\n",
       "       2.89037176, 3.04452244, 2.99573227, 2.56494936, 3.36729583,\n",
       "       3.13549422, 2.99573227, 3.13549422, 3.17805383, 3.21887582,\n",
       "       3.17805383, 2.89037176, 3.36729583, 2.94443898, 3.13549422,\n",
       "       3.13549422, 3.09104245, 3.21887582, 3.49650756, 3.33220451,\n",
       "       3.21887582, 3.21887582, 3.25809654, 3.29583687, 2.86220088,\n",
       "       2.77258872, 2.74084002, 2.67414865, 3.09104245, 3.09104245,\n",
       "       3.17805383, 3.11351531, 3.36729583, 3.19867312, 3.36729583,\n",
       "       3.49650756, 2.99573227, 2.89037176, 2.91777073, 2.86220088,\n",
       "       3.38439026, 3.4657359 , 3.33220451, 3.27714473, 2.99573227,\n",
       "       2.56494936, 2.94443898, 2.94443898, 2.80336038, 2.80336038,\n",
       "       2.56494936, 2.56494936, 2.56494936, 3.44998755, 3.40119738,\n",
       "       3.58351894, 3.23867845, 3.51154544, 2.86220088, 2.83321334,\n",
       "       2.74084002, 2.7080502 , 2.86220088, 3.02042489, 2.94443898,\n",
       "       2.91777073, 2.77258872, 2.74084002, 2.74084002, 2.77258872,\n",
       "       3.36729583, 3.19867312, 3.25809654, 3.23867845, 3.41772668,\n",
       "       3.51154544, 3.40119738, 3.41772668, 3.09104245, 3.06805294,\n",
       "       3.06805294, 3.763523  , 3.58629287, 3.49042852, 3.67376582,\n",
       "       3.58629287, 2.99071973, 2.96527307, 3.0056826 , 2.95491028,\n",
       "       3.02042489, 3.0056826 , 3.22286785, 3.02042489, 2.96527307,\n",
       "       3.02529108, 3.03495299, 2.92316158, 2.89591194, 2.95491028,\n",
       "       2.87356464, 2.89591194, 2.86220088, 3.40119738, 3.314186  ,\n",
       "       3.30321697, 3.43075618, 3.04927304, 3.14415228, 3.16968558,\n",
       "       3.17387846, 3.01062089, 2.83321334, 3.07269331, 2.78501124,\n",
       "       3.44998755, 3.38439026, 3.06805294, 2.98568194, 3.10458668,\n",
       "       3.0056826 , 3.02529108, 2.83321334, 2.8678989 , 2.80336038,\n",
       "       2.90142159, 2.82731362, 2.74084002, 2.95491028, 2.91777073,\n",
       "       3.46260601, 3.52929738, 3.57515069, 3.31054301, 3.23474917,\n",
       "       3.13549422, 3.30321697, 3.17387846, 3.53222564, 3.54095932,\n",
       "       3.45946629, 3.61899333, 3.34638915, 3.36037539, 3.28840189,\n",
       "       3.51154544, 3.72569343, 3.64021428, 3.46885603, 3.61630876,\n",
       "       3.33220451, 3.27336401, 3.19047635, 2.94968834, 3.53514535,\n",
       "       3.39450839, 3.4436181 , 3.61091791, 3.47196645, 3.84160054,\n",
       "       3.32862669, 3.70868208, 3.79098468, 3.77045944, 3.59456877,\n",
       "       3.40119738, 3.79773386, 3.71113006, 3.5204608 , 3.39450839,\n",
       "       3.48737508, 3.16547505, 3.55534806, 3.16124671, 3.47815842,\n",
       "       3.30321697, 3.28091122, 3.25037449, 3.15700042, 3.40119738,\n",
       "       3.66612247, 3.66356165, 3.55820113, 3.47506723, 3.61091791,\n",
       "       3.62966009, 3.52929738, 3.54673969, 3.53805656, 3.39785848,\n",
       "       3.49650756, 3.54095932, 3.51749784, 3.47815842, 3.49347266,\n",
       "       3.45315712, 3.33576958,       -inf, 3.42426265, 3.23474917,\n",
       "       3.18635263, 3.10906096, 3.28091122, 3.0056826 , 2.8678989 ,\n",
       "       3.33220451, 3.29583687, 3.52636052, 3.4339872 , 3.36729583,\n",
       "       3.29583687, 3.17805383, 3.13549422, 3.58351894, 3.61091791,\n",
       "       3.4339872 , 3.63758616, 3.58351894, 3.58351894, 3.58351894,\n",
       "       3.52636052, 3.63758616, 3.4657359 , 3.63758616, 3.21887582,\n",
       "       3.63758616, 3.25809654, 3.09104245, 3.4657359 , 3.58351894,\n",
       "       3.29583687, 3.29583687, 3.78418963, 3.4657359 , 3.33220451,\n",
       "       3.4339872 ])"
      ]
     },
     "metadata": {},
     "execution_count": 95
    }
   ],
   "metadata": {}
  },
  {
   "cell_type": "markdown",
   "source": [
    "11.You your google skills to find the unique items in `origin`. (This may not have been covered in the readings.)"
   ],
   "metadata": {}
  },
  {
   "cell_type": "code",
   "execution_count": 26,
   "source": [
    "#type(origin)\r\n",
    "origin_test = [0,6,5,0,6,5]\r\n"
   ],
   "outputs": [
    {
     "output_type": "execute_result",
     "data": {
      "text/plain": [
       "array([0, 5, 6])"
      ]
     },
     "metadata": {},
     "execution_count": 26
    }
   ],
   "metadata": {}
  },
  {
   "cell_type": "markdown",
   "source": [
    "12.\n",
    "- Create a 2D array and print its shape as well as ndim. (Any shape is fine)\n",
    "\n",
    "- Create a 3D array and print its shape as well as ndim.\n",
    "\n",
    "- Create a 4D array and print its shape as well as ndim. *It's hard to visualize 4-Dimensions but numpy can do it with ease!*"
   ],
   "metadata": {}
  },
  {
   "cell_type": "code",
   "execution_count": 122,
   "source": [
    "two_array=np.array([[1,1,1,1,1,1],[2,2,2,2,2,2]])\r\n",
    "# print(two_array)\r\n",
    "print(two_array.shape)\r\n",
    "print(two_array.ndim)\r\n",
    "\r\n",
    "three_array=np.zeros((3,2,6))\r\n",
    "# print(three_array)\r\n",
    "print(three_array.shape)\r\n",
    "print(three_array.ndim)\r\n",
    "\r\n",
    "four_array=np.array([1,2,3,4],ndmin=4)\r\n",
    "# print(four_array)\r\n",
    "print(four_array.shape)\r\n",
    "print(four_array.ndim)\r\n"
   ],
   "outputs": [
    {
     "output_type": "stream",
     "name": "stdout",
     "text": [
      "(2, 6)\n",
      "2\n",
      "(3, 2, 6)\n",
      "3\n",
      "(1, 1, 1, 4)\n",
      "4\n"
     ]
    }
   ],
   "metadata": {}
  },
  {
   "cell_type": "markdown",
   "source": [
    "13.Use boolean indexing to create an array of `True/False` using `origin` and the value 'US'."
   ],
   "metadata": {}
  },
  {
   "cell_type": "code",
   "execution_count": 162,
   "source": [
    "# try1=np.array('US' in origin)\r\n",
    "# print(try1)\r\n",
    "# print(type(try1))\r\n",
    "\r\n",
    "# try2=(str(origin).str.contains(\"US\"))\r\n",
    "# print(try2)\r\n",
    "\r\n",
    "# try3=origin==\"US\"\r\n",
    "# print(type(try3[0]))\r\n",
    "# print(try3)\r\n",
    "\r\n",
    "origin==\"US\""
   ],
   "outputs": [
    {
     "output_type": "execute_result",
     "data": {
      "text/plain": [
       "array([ True,  True,  True,  True,  True,  True,  True,  True,  True,\n",
       "        True, False,  True,  True,  True,  True,  True,  True,  True,\n",
       "        True,  True, False,  True,  True,  True, False, False, False,\n",
       "       False, False, False,  True,  True,  True,  True,  True, False,\n",
       "        True, False,  True, False,  True,  True,  True,  True,  True,\n",
       "        True,  True,  True,  True,  True,  True,  True,  True,  True,\n",
       "        True,  True,  True, False, False, False, False, False, False,\n",
       "        True, False,  True, False,  True,  True,  True,  True,  True,\n",
       "        True,  True,  True,  True,  True,  True, False,  True,  True,\n",
       "        True,  True, False, False, False, False,  True, False, False,\n",
       "        True, False,  True,  True,  True,  True,  True,  True,  True,\n",
       "        True,  True,  True,  True,  True,  True,  True,  True,  True,\n",
       "        True, False,  True,  True,  True,  True,  True, False,  True,\n",
       "       False, False,  True,  True, False,  True,  True, False, False,\n",
       "       False, False,  True, False, False,  True,  True,  True,  True,\n",
       "        True, False,  True, False,  True,  True,  True,  True,  True,\n",
       "        True,  True,  True,  True, False, False, False, False, False,\n",
       "        True, False, False, False, False, False,  True,  True,  True,\n",
       "        True,  True,  True,  True,  True,  True,  True,  True,  True,\n",
       "        True,  True,  True, False,  True,  True,  True, False, False,\n",
       "       False,  True, False,  True, False, False, False, False, False,\n",
       "       False, False,  True,  True, False,  True,  True,  True,  True,\n",
       "        True,  True,  True,  True,  True,  True, False, False,  True,\n",
       "        True,  True,  True, False, False, False,  True, False,  True,\n",
       "       False, False, False,  True,  True,  True,  True, False,  True,\n",
       "       False,  True, False,  True,  True,  True,  True,  True,  True,\n",
       "        True,  True,  True,  True,  True,  True, False,  True, False,\n",
       "        True,  True,  True, False, False, False, False, False, False,\n",
       "        True, False, False, False,  True,  True,  True,  True,  True,\n",
       "        True,  True,  True,  True,  True,  True,  True,  True,  True,\n",
       "        True,  True,  True,  True, False, False,  True, False,  True,\n",
       "        True, False, False, False, False, False, False, False,  True,\n",
       "        True,  True,  True,  True,  True,  True,  True,  True,  True,\n",
       "        True,  True,  True, False, False,  True,  True, False,  True,\n",
       "       False,  True,  True,  True, False, False,  True,  True,  True,\n",
       "        True, False, False,  True, False,  True,  True,  True,  True,\n",
       "       False, False, False, False, False, False,  True, False, False,\n",
       "       False, False, False, False, False, False, False, False, False,\n",
       "       False,  True, False,  True,  True,  True,  True,  True, False,\n",
       "        True, False, False, False, False, False,  True,  True,  True,\n",
       "       False, False, False, False, False, False, False, False, False,\n",
       "       False, False,  True,  True,  True,  True,  True,  True,  True,\n",
       "        True,  True,  True,  True,  True, False, False, False,  True,\n",
       "        True, False, False, False, False, False, False,  True,  True,\n",
       "        True,  True, False,  True,  True,  True, False,  True,  True,\n",
       "        True])"
      ]
     },
     "metadata": {},
     "execution_count": 162
    }
   ],
   "metadata": {
    "scrolled": true
   }
  },
  {
   "cell_type": "markdown",
   "source": [
    "14.Apply your index (from above) to the `car` array. You should now only see cars that are of US origin. "
   ],
   "metadata": {}
  },
  {
   "cell_type": "code",
   "execution_count": 158,
   "source": [
    "car[origin==\"US\"]"
   ],
   "outputs": [
    {
     "output_type": "execute_result",
     "data": {
      "text/plain": [
       "array(['Chevrolet Chevelle Malibu', 'Buick Skylark 320',\n",
       "       'Plymouth Satellite', 'AMC Rebel SST', 'Ford Torino',\n",
       "       'Ford Galaxie 500', 'Chevrolet Impala', 'Plymouth Fury iii',\n",
       "       'Pontiac Catalina', 'AMC Ambassador DPL',\n",
       "       'Chevrolet Chevelle Concours (sw)', 'Ford Torino (sw)',\n",
       "       'Plymouth Satellite (sw)', 'AMC Rebel SST (sw)',\n",
       "       'Dodge Challenger SE', \"Plymouth 'Cuda 340\",\n",
       "       'Ford Mustang Boss 302', 'Chevrolet Monte Carlo',\n",
       "       'Buick Estate Wagon (sw)', 'Plymouth Duster', 'AMC Hornet',\n",
       "       'Ford Maverick', 'AMC Gremlin', 'Ford F250', 'Chevy C20',\n",
       "       'Dodge D200', 'Hi 1200D', 'Chevrolet Vega 2300', 'Ford Pinto',\n",
       "       'AMC Gremlin', 'Plymouth Satellite Custom',\n",
       "       'Chevrolet Chevelle Malibu', 'Ford Torino 500', 'AMC Matador',\n",
       "       'Chevrolet Impala', 'Pontiac Catalina Brougham',\n",
       "       'Ford Galaxie 500', 'Plymouth Fury iii', 'Dodge Monaco (sw)',\n",
       "       'Ford Country Squire (sw)', 'Pontiac Safari (sw)',\n",
       "       'AMC Hornet Sportabout (sw)', 'Chevrolet Vega (sw)',\n",
       "       'Pontiac Firebird', 'Ford Mustang', 'Mercury Capri 2000',\n",
       "       'Plymouth Cricket', 'Dodge Colt Hardtop', 'Chevrolet Vega',\n",
       "       'Ford Pinto Runabout', 'Chevrolet Impala', 'Pontiac Catalina',\n",
       "       'Plymouth Fury III', 'Ford Galaxie 500', 'AMC Ambassador SST',\n",
       "       'Mercury Marquis', 'Buick LeSabre Custom',\n",
       "       'Oldsmobile Delta 88 Royale', 'Chrysler Newport Royal',\n",
       "       'AMC Matador (sw)', 'Chevrolet Chevelle Concours (sw)',\n",
       "       'Ford Gran Torino (sw)', 'Plymouth Satellite Custom (sw)',\n",
       "       'Ford Pinto (sw)', 'Dodge Colt (sw)', 'Buick Century 350',\n",
       "       'AMC Matador', 'Chevrolet Malibu', 'Ford Gran Torino',\n",
       "       'Dodge Coronet Custom', 'Mercury Marquis Brougham',\n",
       "       'Chevrolet Caprice Classic', 'Ford LTD',\n",
       "       'Plymouth Fury Gran Sedan', 'Chrysler New Yorker Brougham',\n",
       "       'Buick Electra 225 Custom', 'AMC Ambassador Brougham',\n",
       "       'Plymouth Valiant', 'Chevrolet Nova Custom', 'AMC Hornet',\n",
       "       'Ford Maverick', 'Plymouth Duster', 'Chevrolet Impala',\n",
       "       'Ford Country', 'Plymouth Custom Suburb',\n",
       "       'Oldsmobile Vista Cruiser', 'AMC Gremlin', 'Chevrolet Vega',\n",
       "       'Ford Pinto', 'Mercury Capri v6', 'Chevrolet Monte Carlo S',\n",
       "       'Pontiac Grand Prix', 'Dodge Dart Custom', 'Oldsmobile Omega',\n",
       "       'Plymouth Duster', 'Ford Maverick', 'AMC Hornet', 'Chevrolet Nova',\n",
       "       'Ford Pinto', 'Chevrolet Vega',\n",
       "       'Chevrolet Chevelle Malibu Classic', 'AMC Matador',\n",
       "       'Plymouth Satellite Sebring', 'Ford Gran Torino',\n",
       "       'Buick Century Luxus (sw)', 'Dodge Coronet Custom (sw)',\n",
       "       'Ford Gran Torino (sw)', 'AMC Matador (sw)', 'Dodge Colt',\n",
       "       'Plymouth Valiant Custom', 'Chevrolet Nova', 'Mercury Monarch',\n",
       "       'Ford Maverick', 'Pontiac Catalina', 'Chevrolet Bel Air',\n",
       "       'Plymouth Grand Fury', 'Ford LTD', 'Buick Century',\n",
       "       'Chevrolete Chevelle Malibu', 'AMC Matador', 'Plymouth Fury',\n",
       "       'Buick Skyhawk', 'Chevrolet Monza 2+2', 'Ford Mustang II',\n",
       "       'Ford Pinto', 'AMC Gremlin', 'Pontiac Astro', 'Ford Pinto',\n",
       "       'AMC Pacer', 'Capri ii', 'Dodge Colt',\n",
       "       'Chevrolet Chevelle Malibu Classic', 'Dodge Coronet Brougham',\n",
       "       'AMC Matador', 'Ford Gran Torino', 'Plymouth Valiant',\n",
       "       'Chevrolet Nova', 'Ford Maverick', 'AMC Hornet',\n",
       "       'Chevrolet Chevette', 'Chevrolet Woody', 'Dodge Aspen SE',\n",
       "       'Ford Grenada ghia', 'Pontiac Ventura SJ', 'AMC Pacer d/l',\n",
       "       'Ford Pinto', 'Plymouth Volare Premier v8', 'Cadillac Seville',\n",
       "       'Chevrolet C10', 'Ford F108', 'Dodge D100',\n",
       "       'Buick Opel Isuzu Deluxe', 'Plymouth Arrow GS',\n",
       "       'Chevrolet Caprice Classic', 'Oldsmobile Cutlass Supreme',\n",
       "       'Dodge Monaco Brougham', 'Mercury Cougar Brougham',\n",
       "       'Chevrolet Concours', 'Buick Skylark', 'Plymouth Volare Custom',\n",
       "       'Ford Grenada', 'Pontiac Grand Prix LJ',\n",
       "       'Chevrolet Monte Carlo Landau', 'Chrysler Cordoba',\n",
       "       'Ford Thunderbird', 'Pontiac Sunbird Coupe', 'Ford Mustang II 2+2',\n",
       "       'Chevrolet Chevette', 'Dodge Colt m/m', 'Ford Fiesta',\n",
       "       'Oldsmobile Cutlass Salon Brougham', 'Dodge Diplomat',\n",
       "       'Mercury Monarch ghia', 'Pontiac Phoenix LJ', 'Chevrolet Malibu',\n",
       "       'Ford Fairmont (auto)', 'Ford Fairmont (man)', 'Plymouth Volare',\n",
       "       'AMC Concord', 'Buick Century Special', 'Mercury Zephyr',\n",
       "       'Dodge Aspen', 'AMC Concord d/l', 'Chevrolet Monte Carlo Landau',\n",
       "       'Buick Regal Sport Coupe (turbo)', 'Ford Futura',\n",
       "       'Dodge Magnum XE', 'Chevrolet Chevette', 'Dodge Omni',\n",
       "       'Plymouth Sapporo', 'Oldsmobile Starfire SX', 'Pontiac Lemans V6',\n",
       "       'Mercury Zephyr 6', 'Ford Fairmont 4', 'AMC Concord DL 6',\n",
       "       'Dodge Aspen 6', 'Chevrolet Caprice Classic', 'Ford LTD Landau',\n",
       "       'Mercury Grand Marquis', 'Dodge St. Regis',\n",
       "       'Buick Estate Wagon (sw)', 'Ford Country Squire (sw)',\n",
       "       'Chevrolet Malibu Classic (sw)',\n",
       "       'Chrysler Lebaron Town @ Country (sw)',\n",
       "       'Dodge Colt Hatchback Custom', 'AMC Spirit DL',\n",
       "       'Cadillac Eldorado', 'Oldsmobile Cutlass Salon Brougham',\n",
       "       'Plymouth Horizon', 'Plymouth Horizon TC3',\n",
       "       'Buick Skylark Limited', 'Chevrolet Citation',\n",
       "       'Oldsmobile Omega Brougham', 'Pontiac Phoenix',\n",
       "       'Chevrolet Chevette', 'Chevrolet Citation', 'Ford Fairmont',\n",
       "       'AMC Concord', 'Dodge Aspen', 'Dodge Colt', 'Ford Mustang Cobra',\n",
       "       'Plymouth Reliant', 'Buick Skylark', 'Dodge Aries Wagon (sw)',\n",
       "       'Chevrolet Citation', 'Plymouth Reliant', 'Plymouth Champ',\n",
       "       'Plymouth Horizon 4', 'Ford Escort 4W', 'Ford Escort 2H',\n",
       "       'Buick Century', 'Oldsmobile Cutlass LS', 'Ford Grenada gl',\n",
       "       'Chrysler Lebaron Salon', 'Chevrolet Cavalier',\n",
       "       'Chevrolet Cavalier Wagon', 'Chevrolet Cavalier 2-door',\n",
       "       'Pontiac J2000 SE Hatchback', 'Dodge Aries SE', 'Pontiac Phoenix',\n",
       "       'Ford Fairmont Futura', 'AMC Concord DL', 'Plymouth Horizon Miser',\n",
       "       'Mercury Lynx l', 'Buick Century Limited',\n",
       "       'Oldsmobile Cutlass Ciera (diesel)', 'Chrysler Lebaron Medallion',\n",
       "       'Ford Grenada l', 'Dodge Charger 2.2', 'Chevrolet Camaro',\n",
       "       'Ford Mustang GL', 'Dodge Rampage', 'Ford Ranger', 'Chevy S-10'],\n",
       "      dtype=object)"
      ]
     },
     "metadata": {},
     "execution_count": 158
    }
   ],
   "metadata": {}
  },
  {
   "cell_type": "markdown",
   "source": [
    "15.Why might you prefer an `np.array()` over a Python `list`? And when is a Python `list` preferred? "
   ],
   "metadata": {}
  },
  {
   "cell_type": "code",
   "execution_count": null,
   "source": [
    "# An np.array is preferred\r\n",
    "    # to use less memolry\r\n",
    "    # to use arithmetic operations\r\n",
    "# A python list is preffered\r\n",
    "    # to use different sizes of nested data\r\n",
    "    # to use different data types"
   ],
   "outputs": [],
   "metadata": {}
  },
  {
   "cell_type": "markdown",
   "source": [
    "16.What is an identity matrix? \n",
    "Create an identiy matrix of size 5 using an np method. "
   ],
   "metadata": {}
  },
  {
   "cell_type": "code",
   "execution_count": 176,
   "source": [
    "idmatrix=np.identity(5)\r\n",
    "# idmatrix=np.identity(5,dtype=\"str\")\r\n",
    "print(idmatrix)"
   ],
   "outputs": [
    {
     "output_type": "stream",
     "name": "stdout",
     "text": [
      "[[1. 0. 0. 0. 0.]\n",
      " [0. 1. 0. 0. 0.]\n",
      " [0. 0. 1. 0. 0.]\n",
      " [0. 0. 0. 1. 0.]\n",
      " [0. 0. 0. 0. 1.]]\n"
     ]
    }
   ],
   "metadata": {}
  },
  {
   "cell_type": "markdown",
   "source": [
    "17.Transpose the following array. "
   ],
   "metadata": {}
  },
  {
   "cell_type": "code",
   "execution_count": null,
   "source": [
    "transpose_me = np.array([[1,2,3],\r\n",
    "                      [4,5,6],\r\n",
    "                      [7,8,9]])\r\n"
   ],
   "outputs": [],
   "metadata": {}
  },
  {
   "cell_type": "code",
   "execution_count": 172,
   "source": [
    "transpose_me = np.array([[1,2,3],\r\n",
    "                      [4,5,6],\r\n",
    "                      [7,8,9]])\r\n",
    "\r\n",
    "\r\n",
    "np.transpose(transpose_me)\r\n",
    "# transpose_me.transpose()"
   ],
   "outputs": [
    {
     "output_type": "execute_result",
     "data": {
      "text/plain": [
       "array([[1, 4, 7],\n",
       "       [2, 5, 8],\n",
       "       [3, 6, 9]])"
      ]
     },
     "metadata": {},
     "execution_count": 172
    }
   ],
   "metadata": {}
  },
  {
   "cell_type": "markdown",
   "source": [
    "**The remaining questions are OPTIONAL**: The readings did not address all of these so you may have to use some \"Google-Fu\". "
   ],
   "metadata": {}
  },
  {
   "cell_type": "markdown",
   "source": [
    "1.Why does this multiplication operation fail? "
   ],
   "metadata": {}
  },
  {
   "cell_type": "code",
   "execution_count": null,
   "source": [
    "arr1 = np.array([[1,2,3],\r\n",
    "                      [4,5,6],\r\n",
    "                      [7,8,9]])\r\n",
    "arr2 = np.array([[1,2,3],\r\n",
    "                      [4,5,6]])\r\n",
    "\r\n",
    "arr1 * arr2"
   ],
   "outputs": [],
   "metadata": {}
  },
  {
   "cell_type": "code",
   "execution_count": null,
   "source": [],
   "outputs": [],
   "metadata": {}
  },
  {
   "cell_type": "markdown",
   "source": [
    "Use numpy to answer the following questions. "
   ],
   "metadata": {}
  },
  {
   "cell_type": "markdown",
   "source": [
    "2.What is the average horsepower for `Europe` cars? (Hint: create boolean index of 'US' apply it to horsepower and perform the calculation.)"
   ],
   "metadata": {}
  },
  {
   "cell_type": "code",
   "execution_count": null,
   "source": [],
   "outputs": [],
   "metadata": {}
  },
  {
   "cell_type": "markdown",
   "source": [
    "3.On average are Japanse cars more fuel efficient than US cars? "
   ],
   "metadata": {}
  },
  {
   "cell_type": "code",
   "execution_count": null,
   "source": [],
   "outputs": [],
   "metadata": {}
  },
  {
   "cell_type": "markdown",
   "source": [
    "4.What is the correlation coefficient of `mpg` and `weight`? What is a correlaton coefficient?"
   ],
   "metadata": {}
  },
  {
   "cell_type": "code",
   "execution_count": null,
   "source": [],
   "outputs": [],
   "metadata": {}
  }
 ],
 "metadata": {
  "kernelspec": {
   "name": "python3",
   "display_name": "Python 3.8.10 64-bit"
  },
  "language_info": {
   "codemirror_mode": {
    "name": "ipython",
    "version": 3
   },
   "file_extension": ".py",
   "mimetype": "text/x-python",
   "name": "python",
   "nbconvert_exporter": "python",
   "pygments_lexer": "ipython3",
   "version": "3.8.10"
  },
  "interpreter": {
   "hash": "ee5cc6fef2d70a7e71ee3826687cbd150f18158e0b1eef11d4f4f92bb920e304"
  }
 },
 "nbformat": 4,
 "nbformat_minor": 4
}