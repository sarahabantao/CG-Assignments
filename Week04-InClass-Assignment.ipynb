{
 "cells": [
  {
   "cell_type": "code",
   "execution_count": 15,
   "source": [
    "import numpy as np\r\n",
    "import pandas as pd"
   ],
   "outputs": [],
   "metadata": {}
  },
  {
   "cell_type": "markdown",
   "source": [
    "Belize CSV"
   ],
   "metadata": {}
  },
  {
   "cell_type": "code",
   "execution_count": 16,
   "source": [
    "\r\n",
    "belize_listings_path='Belize_airbnb_listings.csv'\r\n",
    "belize_df=pd.read_csv(belize_listings_path)\r\n",
    "# belize_df.head(1)"
   ],
   "outputs": [],
   "metadata": {}
  },
  {
   "cell_type": "code",
   "execution_count": 17,
   "source": [
    "df=belize_df.groupby(\"neighbourhood\")\r\n",
    "# df.head(1)"
   ],
   "outputs": [],
   "metadata": {}
  },
  {
   "cell_type": "code",
   "execution_count": 18,
   "source": [
    "df['price'].mean()"
   ],
   "outputs": [
    {
     "output_type": "execute_result",
     "data": {
      "text/plain": [
       "neighbourhood\n",
       "Belize Islands           399.442824\n",
       "Belize Mainland          288.273063\n",
       "Cayo                     205.847525\n",
       "Corozal                  156.553846\n",
       "Orange Walk              122.035714\n",
       "Stann Creek Islands     1136.166667\n",
       "Stann Creek Mainland     456.994690\n",
       "Toledo Mainland          222.978723\n",
       "Name: price, dtype: float64"
      ]
     },
     "metadata": {},
     "execution_count": 18
    }
   ],
   "metadata": {}
  },
  {
   "cell_type": "code",
   "execution_count": 19,
   "source": [
    "df['number_of_reviews'].mean()\r\n",
    "df['number_of_reviews'].count()"
   ],
   "outputs": [
    {
     "output_type": "execute_result",
     "data": {
      "text/plain": [
       "neighbourhood\n",
       "Belize Islands          1303\n",
       "Belize Mainland          271\n",
       "Cayo                     505\n",
       "Corozal                   65\n",
       "Orange Walk               28\n",
       "Stann Creek Islands       12\n",
       "Stann Creek Mainland     565\n",
       "Toledo Mainland           47\n",
       "Name: number_of_reviews, dtype: int64"
      ]
     },
     "metadata": {},
     "execution_count": 19
    }
   ],
   "metadata": {}
  },
  {
   "cell_type": "code",
   "execution_count": 20,
   "source": [
    "df['availability_365'].mean()\r\n",
    "df['availability_365'].count()"
   ],
   "outputs": [
    {
     "output_type": "execute_result",
     "data": {
      "text/plain": [
       "neighbourhood\n",
       "Belize Islands          1303\n",
       "Belize Mainland          271\n",
       "Cayo                     505\n",
       "Corozal                   65\n",
       "Orange Walk               28\n",
       "Stann Creek Islands       12\n",
       "Stann Creek Mainland     565\n",
       "Toledo Mainland           47\n",
       "Name: availability_365, dtype: int64"
      ]
     },
     "metadata": {},
     "execution_count": 20
    }
   ],
   "metadata": {}
  },
  {
   "cell_type": "markdown",
   "source": [
    "List Comprehensions"
   ],
   "metadata": {}
  },
  {
   "cell_type": "code",
   "execution_count": 21,
   "source": [
    "og_list=[2,4,6,8,10,12,14]"
   ],
   "outputs": [],
   "metadata": {}
  },
  {
   "cell_type": "code",
   "execution_count": 22,
   "source": [
    "# create a new list from the square of each value\r\n",
    "\r\n",
    "squarelist=[x**2 for x in og_list]\r\n",
    "squarelist"
   ],
   "outputs": [
    {
     "output_type": "execute_result",
     "data": {
      "text/plain": [
       "[4, 16, 36, 64, 100, 144, 196]"
      ]
     },
     "metadata": {},
     "execution_count": 22
    }
   ],
   "metadata": {}
  },
  {
   "cell_type": "code",
   "execution_count": 23,
   "source": [
    "#  Take the same list from the previous question and create a new list but where each value\r\n",
    "# is 2/3\r\n",
    "twothirdoriginal=[x*(2/3) for x in og_list]\r\n",
    "print(twothirdoriginal)\r\n",
    "twothird=[x*(2/3) for x in squarelist]\r\n",
    "print(twothird)"
   ],
   "outputs": [
    {
     "output_type": "stream",
     "name": "stdout",
     "text": [
      "[1.3333333333333333, 2.6666666666666665, 4.0, 5.333333333333333, 6.666666666666666, 8.0, 9.333333333333332]\n",
      "[2.6666666666666665, 10.666666666666666, 24.0, 42.666666666666664, 66.66666666666666, 96.0, 130.66666666666666]\n"
     ]
    }
   ],
   "metadata": {}
  },
  {
   "cell_type": "code",
   "execution_count": 24,
   "source": [
    "#  Write a list comprehension or function to lowercase all the keys in the below dictionary.\r\n",
    "# The data represents how many pounds of each fruit a canning company is ordering.\r\n",
    "# Why did you choose the mechanism you did to lowercase the keys?\r\n",
    "\r\n",
    "dict={\"Apples\": 1500, \"Cranberries\": 2000, \"Pears\": 2500, \"Cherries\": 1600, \"Plums\": 2400,\r\n",
    "\"Peaches\": 13600, \"Oranges\": 7}\r\n",
    "new={k.lower(): x for k, x in dict.items()}\r\n",
    "new\r\n",
    "\r\n",
    "# chose this one because it only iterates through the keys\r\n",
    "    # there's no need to iterate through the values"
   ],
   "outputs": [
    {
     "output_type": "execute_result",
     "data": {
      "text/plain": [
       "{'apples': 1500,\n",
       " 'cranberries': 2000,\n",
       " 'pears': 2500,\n",
       " 'cherries': 1600,\n",
       " 'plums': 2400,\n",
       " 'peaches': 13600,\n",
       " 'oranges': 7}"
      ]
     },
     "metadata": {},
     "execution_count": 24
    }
   ],
   "metadata": {}
  }
 ],
 "metadata": {
  "kernelspec": {
   "name": "python3",
   "display_name": "Python 3.8.10 64-bit"
  },
  "language_info": {
   "codemirror_mode": {
    "name": "ipython",
    "version": 3
   },
   "file_extension": ".py",
   "mimetype": "text/x-python",
   "name": "python",
   "nbconvert_exporter": "python",
   "pygments_lexer": "ipython3",
   "version": "3.8.10"
  },
  "interpreter": {
   "hash": "ee5cc6fef2d70a7e71ee3826687cbd150f18158e0b1eef11d4f4f92bb920e304"
  }
 },
 "nbformat": 4,
 "nbformat_minor": 5
}