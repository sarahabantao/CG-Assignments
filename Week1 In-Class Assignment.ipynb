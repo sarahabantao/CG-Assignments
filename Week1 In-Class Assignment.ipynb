{
 "cells": [
  {
   "cell_type": "markdown",
   "id": "7e3e1e3c",
   "metadata": {},
   "source": [
    "integers and floats"
   ]
  },
  {
   "cell_type": "code",
   "execution_count": null,
   "id": "46f7f818",
   "metadata": {},
   "outputs": [],
   "source": [
    "# shift-enter is the run command\n",
    "# integers are whole numbers (1,2,3)\n",
    "    # this can include negative numbers (-1,-2,-3)\n",
    "# floats are decimals (1.1,2.2,3.3)\n",
    "    # this includes any decimal, even if zero (1.0,2.0,3.0)\n",
    "\n",
    "x = 8\n",
    "y = 8.5\n",
    "\n",
    "print(type(x))\n",
    "print(type(y))"
   ]
  },
  {
   "cell_type": "markdown",
   "id": "36117ef7",
   "metadata": {},
   "source": [
    "dictionaries"
   ]
  },
  {
   "cell_type": "code",
   "execution_count": 7,
   "id": "51ce1392",
   "metadata": {},
   "outputs": [
    {
     "name": "stdout",
     "output_type": "stream",
     "text": [
      "3\n"
     ]
    }
   ],
   "source": [
    "# dictionaries are key:value pairs\n",
    "# similar to columns and rows in excel\n",
    "# kind of like making a list but definitely NOT a list, list is below\n",
    "\n",
    "pets={\"puppies\":3,\"kittens\":0}\n",
    "print(pets[\"puppies\"])"
   ]
  },
  {
   "cell_type": "markdown",
   "id": "b4288b9b",
   "metadata": {},
   "source": [
    "boolean"
   ]
  },
  {
   "cell_type": "code",
   "execution_count": 1,
   "id": "3c6c5033",
   "metadata": {},
   "outputs": [
    {
     "name": "stdout",
     "output_type": "stream",
     "text": [
      "<class 'bool'>\n",
      "<class 'bool'>\n"
     ]
    }
   ],
   "source": [
    "# boolean is true/false\n",
    "# similar to 1/0 binary, it's either there or it isn't\n",
    "# this is NOT the word \"true\" or \"false\"\n",
    "\n",
    "varFalse=False\n",
    "print(type(varFalse))\n",
    "thingTrue=True\n",
    "print(type(thingTrue))"
   ]
  },
  {
   "cell_type": "markdown",
   "id": "857af84c",
   "metadata": {},
   "source": [
    "set"
   ]
  },
  {
   "cell_type": "code",
   "execution_count": 5,
   "id": "6fc1ddda",
   "metadata": {},
   "outputs": [
    {
     "name": "stdout",
     "output_type": "stream",
     "text": [
      "{'luna', 'leo'}\n",
      "{'luna', 'leo', 'gigi'}\n"
     ]
    }
   ],
   "source": [
    "# sets are unordered - they can appear in any order\n",
    "    # so cannot use index ? testing below\n",
    "\n",
    "puppers_set={\"luna\",\"leo\"}\n",
    "print(puppers_set)\n",
    "# puppers_set[0] # didn't work\n",
    "\n",
    "# sets are unchangeable - but you can add items\n",
    "# .add() to items to a set only if it's not there yet\n",
    "\n",
    "puppers_set.add(\"gigi\")\n",
    "print(puppers_set)\n",
    "\n",
    "puppers_set.add(\"luna\") # nothing happens"
   ]
  },
  {
   "cell_type": "markdown",
   "id": "ff54fec1",
   "metadata": {},
   "source": [
    "list"
   ]
  },
  {
   "cell_type": "code",
   "execution_count": 8,
   "id": "db9f9d41",
   "metadata": {},
   "outputs": [
    {
     "data": {
      "text/plain": [
       "'red'"
      ]
     },
     "execution_count": 8,
     "metadata": {},
     "output_type": "execute_result"
    }
   ],
   "source": [
    "# list values are ordered\n",
    "    # so can use the index\n",
    "# list values are changeable\n",
    "    # haven't learned how to change it yet\n",
    "# list values can have duplicates\n",
    "\n",
    "colorsList=[\"red\",\"yellow\",\"blue\", \"red\"]\n",
    "colorsList[0]\n",
    "#colorsList[1]\n",
    "#colorsList[2]\n",
    "colorsList[3]"
   ]
  },
  {
   "cell_type": "markdown",
   "id": "4c0ce2b5",
   "metadata": {},
   "source": [
    "tuple"
   ]
  },
  {
   "cell_type": "code",
   "execution_count": 9,
   "id": "e52408e0",
   "metadata": {},
   "outputs": [
    {
     "data": {
      "text/plain": [
       "'red'"
      ]
     },
     "execution_count": 9,
     "metadata": {},
     "output_type": "execute_result"
    }
   ],
   "source": [
    "# tuples are ordered\n",
    "    # can use index\n",
    "# tuples are unchangeable\n",
    "# tuples can have duplicates\n",
    "\n",
    "colorsTuple=(\"red\",\"yellow\",\"blue\",\"red\")\n",
    "colorsTuple[0]\n",
    "#colorsTuple[1]\n",
    "#colorsTuple[2]\n",
    "colorsTuple[3]"
   ]
  },
  {
   "cell_type": "markdown",
   "id": "f625e739",
   "metadata": {},
   "source": [
    "length"
   ]
  },
  {
   "cell_type": "code",
   "execution_count": 8,
   "id": "84711235",
   "metadata": {},
   "outputs": [
    {
     "name": "stdout",
     "output_type": "stream",
     "text": [
      "4\n"
     ]
    }
   ],
   "source": [
    "# len prints the amount of items in the container\n",
    "\n",
    "colorsTuple=(\"red\",\"yellow\",\"blue\",\"red\")\n",
    "print(len(colorsTuple))"
   ]
  },
  {
   "cell_type": "code",
   "execution_count": null,
   "id": "b2ebb8cd",
   "metadata": {},
   "outputs": [],
   "source": []
  }
 ],
 "metadata": {
  "kernelspec": {
   "display_name": "Python 3 (ipykernel)",
   "language": "python",
   "name": "python3"
  },
  "language_info": {
   "codemirror_mode": {
    "name": "ipython",
    "version": 3
   },
   "file_extension": ".py",
   "mimetype": "text/x-python",
   "name": "python",
   "nbconvert_exporter": "python",
   "pygments_lexer": "ipython3",
   "version": "3.8.10"
  }
 },
 "nbformat": 4,
 "nbformat_minor": 5
}
